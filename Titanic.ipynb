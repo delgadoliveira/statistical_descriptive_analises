{
  "nbformat": 4,
  "nbformat_minor": 0,
  "metadata": {
    "colab": {
      "name": "Bosch_1.ipynb",
      "version": "0.3.2",
      "provenance": [],
      "collapsed_sections": []
    },
    "kernelspec": {
      "name": "python3",
      "display_name": "Python 3"
    },
    "accelerator": "TPU"
  },
  "cells": [
    {
      "cell_type": "code",
      "metadata": {
        "id": "dv5w_tw_b9uw",
        "colab_type": "code",
        "colab": {}
      },
      "source": [
        "import numpy as np\n",
        "import pandas as pd\n",
        "\n",
        "import seaborn as sns\n",
        "\n",
        "from matplotlib import pyplot as plt\n",
        "from matplotlib import style\n",
        "\n",
        "from sklearn import linear_model\n",
        "from sklearn.linear_model import LogisticRegression\n",
        "from sklearn.ensemble import RandomForestClassifier\n",
        "from sklearn.linear_model import Perceptron\n",
        "from sklearn.linear_model import SGDClassifier\n",
        "from sklearn.tree import DecisionTreeClassifier\n",
        "from sklearn.neighbors import KNeighborsClassifier\n",
        "from sklearn.svm import SVC, LinearSVC\n",
        "from sklearn.naive_bayes import GaussianNB\n"
      ],
      "execution_count": 0,
      "outputs": []
    },
    {
      "cell_type": "code",
      "metadata": {
        "id": "eHwi4o86dhmU",
        "colab_type": "code",
        "colab": {}
      },
      "source": [
        "train_df = pd.read_csv('train.csv')\n",
        "test_df = pd.read_csv('test.csv')"
      ],
      "execution_count": 0,
      "outputs": []
    },
    {
      "cell_type": "code",
      "metadata": {
        "id": "OG-H4MTKdoJu",
        "colab_type": "code",
        "outputId": "b119f82d-e380-4091-a338-541c7f5e2d7b",
        "colab": {
          "base_uri": "https://localhost:8080/",
          "height": 302
        }
      },
      "source": [
        "train_df.info()"
      ],
      "execution_count": 0,
      "outputs": [
        {
          "output_type": "stream",
          "text": [
            "<class 'pandas.core.frame.DataFrame'>\n",
            "RangeIndex: 891 entries, 0 to 890\n",
            "Data columns (total 12 columns):\n",
            "PassengerId    891 non-null int64\n",
            "Survived       891 non-null int64\n",
            "Pclass         891 non-null int64\n",
            "Name           891 non-null object\n",
            "Sex            891 non-null object\n",
            "Age            714 non-null float64\n",
            "SibSp          891 non-null int64\n",
            "Parch          891 non-null int64\n",
            "Ticket         891 non-null object\n",
            "Fare           891 non-null float64\n",
            "Cabin          204 non-null object\n",
            "Embarked       889 non-null object\n",
            "dtypes: float64(2), int64(5), object(5)\n",
            "memory usage: 83.6+ KB\n"
          ],
          "name": "stdout"
        }
      ]
    },
    {
      "cell_type": "markdown",
      "metadata": {
        "id": "9Hy0_btleyZF",
        "colab_type": "text"
      },
      "source": [
        "survival:    Survival\n",
        "\n",
        "PassengerId: Unique Id of a passenger.\n",
        "\n",
        "pclass:    Ticket class\n",
        "sex:    Sex     \n",
        "Age:    Age in years     \n",
        "sibsp:    # of siblings / spouses aboard the Titanic     \n",
        "parch:    # of parents / children aboard the Titanic     \n",
        "ticket:    Ticket number     \n",
        "fare:    Passenger fare     \n",
        "cabin:    Cabin number     \n",
        "embarked:    Port of Embarkation\n"
      ]
    },
    {
      "cell_type": "code",
      "metadata": {
        "id": "kt5fVC9Od1g8",
        "colab_type": "code",
        "outputId": "1416bc04-39be-4281-a15a-7b3e1d537510",
        "colab": {
          "base_uri": "https://localhost:8080/",
          "height": 304
        }
      },
      "source": [
        "train_df.describe()"
      ],
      "execution_count": 0,
      "outputs": [
        {
          "output_type": "execute_result",
          "data": {
            "text/html": [
              "<div>\n",
              "<style scoped>\n",
              "    .dataframe tbody tr th:only-of-type {\n",
              "        vertical-align: middle;\n",
              "    }\n",
              "\n",
              "    .dataframe tbody tr th {\n",
              "        vertical-align: top;\n",
              "    }\n",
              "\n",
              "    .dataframe thead th {\n",
              "        text-align: right;\n",
              "    }\n",
              "</style>\n",
              "<table border=\"1\" class=\"dataframe\">\n",
              "  <thead>\n",
              "    <tr style=\"text-align: right;\">\n",
              "      <th></th>\n",
              "      <th>PassengerId</th>\n",
              "      <th>Survived</th>\n",
              "      <th>Pclass</th>\n",
              "      <th>Age</th>\n",
              "      <th>SibSp</th>\n",
              "      <th>Parch</th>\n",
              "      <th>Fare</th>\n",
              "    </tr>\n",
              "  </thead>\n",
              "  <tbody>\n",
              "    <tr>\n",
              "      <th>count</th>\n",
              "      <td>891.000000</td>\n",
              "      <td>891.000000</td>\n",
              "      <td>891.000000</td>\n",
              "      <td>714.000000</td>\n",
              "      <td>891.000000</td>\n",
              "      <td>891.000000</td>\n",
              "      <td>891.000000</td>\n",
              "    </tr>\n",
              "    <tr>\n",
              "      <th>mean</th>\n",
              "      <td>446.000000</td>\n",
              "      <td>0.383838</td>\n",
              "      <td>2.308642</td>\n",
              "      <td>29.699118</td>\n",
              "      <td>0.523008</td>\n",
              "      <td>0.381594</td>\n",
              "      <td>32.204208</td>\n",
              "    </tr>\n",
              "    <tr>\n",
              "      <th>std</th>\n",
              "      <td>257.353842</td>\n",
              "      <td>0.486592</td>\n",
              "      <td>0.836071</td>\n",
              "      <td>14.526497</td>\n",
              "      <td>1.102743</td>\n",
              "      <td>0.806057</td>\n",
              "      <td>49.693429</td>\n",
              "    </tr>\n",
              "    <tr>\n",
              "      <th>min</th>\n",
              "      <td>1.000000</td>\n",
              "      <td>0.000000</td>\n",
              "      <td>1.000000</td>\n",
              "      <td>0.420000</td>\n",
              "      <td>0.000000</td>\n",
              "      <td>0.000000</td>\n",
              "      <td>0.000000</td>\n",
              "    </tr>\n",
              "    <tr>\n",
              "      <th>25%</th>\n",
              "      <td>223.500000</td>\n",
              "      <td>0.000000</td>\n",
              "      <td>2.000000</td>\n",
              "      <td>20.125000</td>\n",
              "      <td>0.000000</td>\n",
              "      <td>0.000000</td>\n",
              "      <td>7.910400</td>\n",
              "    </tr>\n",
              "    <tr>\n",
              "      <th>50%</th>\n",
              "      <td>446.000000</td>\n",
              "      <td>0.000000</td>\n",
              "      <td>3.000000</td>\n",
              "      <td>28.000000</td>\n",
              "      <td>0.000000</td>\n",
              "      <td>0.000000</td>\n",
              "      <td>14.454200</td>\n",
              "    </tr>\n",
              "    <tr>\n",
              "      <th>75%</th>\n",
              "      <td>668.500000</td>\n",
              "      <td>1.000000</td>\n",
              "      <td>3.000000</td>\n",
              "      <td>38.000000</td>\n",
              "      <td>1.000000</td>\n",
              "      <td>0.000000</td>\n",
              "      <td>31.000000</td>\n",
              "    </tr>\n",
              "    <tr>\n",
              "      <th>max</th>\n",
              "      <td>891.000000</td>\n",
              "      <td>1.000000</td>\n",
              "      <td>3.000000</td>\n",
              "      <td>80.000000</td>\n",
              "      <td>8.000000</td>\n",
              "      <td>6.000000</td>\n",
              "      <td>512.329200</td>\n",
              "    </tr>\n",
              "  </tbody>\n",
              "</table>\n",
              "</div>"
            ],
            "text/plain": [
              "       PassengerId    Survived      Pclass  ...       SibSp       Parch        Fare\n",
              "count   891.000000  891.000000  891.000000  ...  891.000000  891.000000  891.000000\n",
              "mean    446.000000    0.383838    2.308642  ...    0.523008    0.381594   32.204208\n",
              "std     257.353842    0.486592    0.836071  ...    1.102743    0.806057   49.693429\n",
              "min       1.000000    0.000000    1.000000  ...    0.000000    0.000000    0.000000\n",
              "25%     223.500000    0.000000    2.000000  ...    0.000000    0.000000    7.910400\n",
              "50%     446.000000    0.000000    3.000000  ...    0.000000    0.000000   14.454200\n",
              "75%     668.500000    1.000000    3.000000  ...    1.000000    0.000000   31.000000\n",
              "max     891.000000    1.000000    3.000000  ...    8.000000    6.000000  512.329200\n",
              "\n",
              "[8 rows x 7 columns]"
            ]
          },
          "metadata": {
            "tags": []
          },
          "execution_count": 43
        }
      ]
    },
    {
      "cell_type": "code",
      "metadata": {
        "id": "fptivaG_fHKP",
        "colab_type": "code",
        "outputId": "867dacfa-8e8a-4a57-ac29-21d429c5d510",
        "colab": {
          "base_uri": "https://localhost:8080/",
          "height": 195
        }
      },
      "source": [
        "total = train_df.isnull().sum().sort_values(ascending=False)\n",
        "percent_1 = train_df.isnull().sum()/train_df.isnull().count()*100\n",
        "percent_2 = (round(percent_1, 1)).sort_values(ascending=False)\n",
        "missing_data = pd.concat([total, percent_2], axis=1, keys=['Total','%'])\n",
        "missing_data.head(5)"
      ],
      "execution_count": 0,
      "outputs": [
        {
          "output_type": "execute_result",
          "data": {
            "text/html": [
              "<div>\n",
              "<style scoped>\n",
              "    .dataframe tbody tr th:only-of-type {\n",
              "        vertical-align: middle;\n",
              "    }\n",
              "\n",
              "    .dataframe tbody tr th {\n",
              "        vertical-align: top;\n",
              "    }\n",
              "\n",
              "    .dataframe thead th {\n",
              "        text-align: right;\n",
              "    }\n",
              "</style>\n",
              "<table border=\"1\" class=\"dataframe\">\n",
              "  <thead>\n",
              "    <tr style=\"text-align: right;\">\n",
              "      <th></th>\n",
              "      <th>Total</th>\n",
              "      <th>%</th>\n",
              "    </tr>\n",
              "  </thead>\n",
              "  <tbody>\n",
              "    <tr>\n",
              "      <th>Cabin</th>\n",
              "      <td>687</td>\n",
              "      <td>77.1</td>\n",
              "    </tr>\n",
              "    <tr>\n",
              "      <th>Age</th>\n",
              "      <td>177</td>\n",
              "      <td>19.9</td>\n",
              "    </tr>\n",
              "    <tr>\n",
              "      <th>Embarked</th>\n",
              "      <td>2</td>\n",
              "      <td>0.2</td>\n",
              "    </tr>\n",
              "    <tr>\n",
              "      <th>Fare</th>\n",
              "      <td>0</td>\n",
              "      <td>0.0</td>\n",
              "    </tr>\n",
              "    <tr>\n",
              "      <th>Ticket</th>\n",
              "      <td>0</td>\n",
              "      <td>0.0</td>\n",
              "    </tr>\n",
              "  </tbody>\n",
              "</table>\n",
              "</div>"
            ],
            "text/plain": [
              "          Total     %\n",
              "Cabin       687  77.1\n",
              "Age         177  19.9\n",
              "Embarked      2   0.2\n",
              "Fare          0   0.0\n",
              "Ticket        0   0.0"
            ]
          },
          "metadata": {
            "tags": []
          },
          "execution_count": 44
        }
      ]
    },
    {
      "cell_type": "code",
      "metadata": {
        "id": "gZbHBVh6gKU2",
        "colab_type": "code",
        "outputId": "1b3468d5-72f2-4900-a691-c91b3e0d8574",
        "colab": {
          "base_uri": "https://localhost:8080/",
          "height": 295
        }
      },
      "source": [
        "#Age and Sex\n",
        "survived = 'survived'\n",
        "not_survived = 'not survived'\n",
        "\n",
        "fig, axes = plt.subplots(nrows=1, ncols=2, figsize=(10,4))\n",
        "women = train_df[train_df['Sex']=='female']\n",
        "men = train_df[train_df['Sex']=='male']\n",
        "\n",
        "ax = sns.distplot(women[women['Survived']==1].Age.dropna(), \\\n",
        "                  bins=18, label=survived, ax = axes[0], kde = False)\n",
        "\n",
        "ax = sns.distplot(women[women['Survived']==0].Age.dropna(), \\\n",
        "                  bins=40, label=not_survived, ax = axes[0], kde = False)\n",
        "\n",
        "\n",
        "ax.legend()\n",
        "ax.set_title('Female')\n",
        "\n",
        "ax = sns.distplot(men[men['Survived']==1].Age.dropna(), \\\n",
        "                 bins=18, label=survived, ax = axes[1], kde = False)\n",
        "\n",
        "ax = sns.distplot(men[men['Survived']==0].Age.dropna(), \\\n",
        "                 bins=40, label=not_survived, ax = axes[1], kde = False)\n",
        "\n",
        "ax.legend()\n",
        "_ = ax.set_title('Male')"
      ],
      "execution_count": 0,
      "outputs": [
        {
          "output_type": "display_data",
          "data": {
            "image/png": "[encoded data removed]",
            "text/plain": [
              "<Figure size 720x288 with 2 Axes>"
            ]
          },
          "metadata": {
            "tags": []
          }
        }
      ]
    },
    {
      "cell_type": "code",
      "metadata": {
        "id": "CLbJU26ziSiO",
        "colab_type": "code",
        "outputId": "b95904b4-4612-498a-df18-7379a7f67ef3",
        "colab": {
          "base_uri": "https://localhost:8080/",
          "height": 1000
        }
      },
      "source": [
        "FacetGrid = sns.FacetGrid(train_df, row='Embarked',size=4.5, aspect=1.6)\n",
        "FacetGrid.map(sns.pointplot, 'Pclass','Survived','Sex',\\\n",
        "              palette=None, order=None, hue_order=None)\n",
        "FacetGrid.add_legend()"
      ],
      "execution_count": 0,
      "outputs": [
        {
          "output_type": "stream",
          "text": [
            "/usr/local/lib/python3.6/dist-packages/seaborn/axisgrid.py:230: UserWarning: The `size` paramter has been renamed to `height`; please update your code.\n",
            "  warnings.warn(msg, UserWarning)\n"
          ],
          "name": "stderr"
        },
        {
          "output_type": "execute_result",
          "data": {
            "text/plain": [
              "<seaborn.axisgrid.FacetGrid at 0x7f455daf3518>"
            ]
          },
          "metadata": {
            "tags": []
          },
          "execution_count": 46
        },
        {
          "output_type": "display_data",
          "data": {
            "image/png": "[encoded data removed]",
            "text/plain": [
              "<Figure size 588.9x972 with 3 Axes>"
            ]
          },
          "metadata": {
            "tags": []
          }
        }
      ]
    },
    {
      "cell_type": "code",
      "metadata": {
        "id": "JaoG_aywjiuX",
        "colab_type": "code",
        "outputId": "7c8d7ed7-fc95-42aa-db2a-efad705d28f5",
        "colab": {
          "base_uri": "https://localhost:8080/",
          "height": 300
        }
      },
      "source": [
        "sns.barplot(x='Pclass', y='Survived', data=train_df)"
      ],
      "execution_count": 0,
      "outputs": [
        {
          "output_type": "execute_result",
          "data": {
            "text/plain": [
              "<matplotlib.axes._subplots.AxesSubplot at 0x7f455a3cada0>"
            ]
          },
          "metadata": {
            "tags": []
          },
          "execution_count": 47
        },
        {
          "output_type": "display_data",
          "data": {
            "image/png": "[encoded data removed]",
            "text/plain": [
              "<Figure size 432x288 with 1 Axes>"
            ]
          },
          "metadata": {
            "tags": []
          }
        }
      ]
    },
    {
      "cell_type": "code",
      "metadata": {
        "id": "gkGoC0xIjvgs",
        "colab_type": "code",
        "outputId": "5b169257-d97c-4a91-a5f7-fed1577f32bc",
        "colab": {
          "base_uri": "https://localhost:8080/",
          "height": 555
        }
      },
      "source": [
        "grid = sns.FacetGrid(train_df,col = 'Survived', row='Pclass', size=2.2, aspect=1.6)\n",
        "grid.map(plt.hist, 'Age', alpha=.5, bins=20)\n",
        "grid.add_legend()"
      ],
      "execution_count": 0,
      "outputs": [
        {
          "output_type": "stream",
          "text": [
            "/usr/local/lib/python3.6/dist-packages/seaborn/axisgrid.py:230: UserWarning: The `size` paramter has been renamed to `height`; please update your code.\n",
            "  warnings.warn(msg, UserWarning)\n"
          ],
          "name": "stderr"
        },
        {
          "output_type": "execute_result",
          "data": {
            "text/plain": [
              "<seaborn.axisgrid.FacetGrid at 0x7f455a38d160>"
            ]
          },
          "metadata": {
            "tags": []
          },
          "execution_count": 48
        },
        {
          "output_type": "display_data",
          "data": {
            "image/png": "[encoded data removed]",
            "text/plain": [
              "<Figure size 514.88x475.2 with 6 Axes>"
            ]
          },
          "metadata": {
            "tags": []
          }
        }
      ]
    },
    {
      "cell_type": "code",
      "metadata": {
        "id": "Dn6bzG6HkmhE",
        "colab_type": "code",
        "outputId": "7fe091cb-1467-4d70-edd0-4fd9be3e7984",
        "colab": {
          "base_uri": "https://localhost:8080/",
          "height": 67
        }
      },
      "source": [
        "data = [train_df, test_df]\n",
        "for dataset in data:\n",
        "  dataset['relatives']=dataset['SibSp']+dataset['Parch']\n",
        "  dataset.loc[dataset['relatives'] > 0, 'not_alone'] = 0\n",
        "  dataset.loc[dataset['relatives'] == 0, 'not_alone'] = 1\n",
        "  dataset['not_alone'] = dataset['not_alone'].astype(int)\n",
        "  \n",
        "train_df['not_alone'].value_counts()"
      ],
      "execution_count": 0,
      "outputs": [
        {
          "output_type": "execute_result",
          "data": {
            "text/plain": [
              "1    537\n",
              "0    354\n",
              "Name: not_alone, dtype: int64"
            ]
          },
          "metadata": {
            "tags": []
          },
          "execution_count": 49
        }
      ]
    },
    {
      "cell_type": "code",
      "metadata": {
        "id": "WUc59ZnBlYYn",
        "colab_type": "code",
        "outputId": "806736e6-60a0-45af-9111-2cf8221de07d",
        "colab": {
          "base_uri": "https://localhost:8080/",
          "height": 422
        }
      },
      "source": [
        "axes = sns.factorplot('relatives','Survived', data=train_df, aspect = 1.7,)"
      ],
      "execution_count": 0,
      "outputs": [
        {
          "output_type": "stream",
          "text": [
            "/usr/local/lib/python3.6/dist-packages/seaborn/categorical.py:3666: UserWarning: The `factorplot` function has been renamed to `catplot`. The original name will be removed in a future release. Please update your code. Note that the default `kind` in `factorplot` (`'point'`) has changed `'strip'` in `catplot`.\n",
            "  warnings.warn(msg)\n"
          ],
          "name": "stderr"
        },
        {
          "output_type": "display_data",
          "data": {
            "image/png": "[encoded data removed]",
            "text/plain": [
              "<Figure size 612x360 with 1 Axes>"
            ]
          },
          "metadata": {
            "tags": []
          }
        }
      ]
    },
    {
      "cell_type": "code",
      "metadata": {
        "id": "_Sb8BT3Nl9Jr",
        "colab_type": "code",
        "colab": {}
      },
      "source": [
        "train_df=train_df.drop(['PassengerId'], axis=1)"
      ],
      "execution_count": 0,
      "outputs": []
    },
    {
      "cell_type": "code",
      "metadata": {
        "id": "1TtABrIzmFnB",
        "colab_type": "code",
        "colab": {}
      },
      "source": [
        "#Cabin\n",
        "\n",
        "import re\n",
        "deck = {'A':1, 'B':2, 'C':3, 'D':4, 'E':5, 'F':6, 'G':7, 'U':8}\n",
        "data = [train_df, test_df]\n",
        "\n",
        "for dataset in data:\n",
        "  dataset['Cabin'] = dataset['Cabin'].fillna('U0')\n",
        "  dataset['Deck'] = dataset['Cabin'].map(lambda x: re.compile(\"([a-zA-Z]+)\").search(x).group())\n",
        "  dataset['Deck'] = dataset['Deck'].map(deck)\n",
        "  dataset['Deck'] = dataset['Deck'].fillna(0)\n",
        "  dataset['Deck'] = dataset['Deck'].astype(int)\n",
        "  \n",
        "\n",
        "# we can now drop the cabin feature\n",
        "train_df = train_df.drop(['Cabin'], axis=1)\n",
        "test_df = test_df.drop(['Cabin'], axis=1)"
      ],
      "execution_count": 0,
      "outputs": []
    },
    {
      "cell_type": "code",
      "metadata": {
        "id": "ULSyNjtunEzY",
        "colab_type": "code",
        "outputId": "bb6da67c-a487-43d5-dce0-fc8fac737e86",
        "colab": {
          "base_uri": "https://localhost:8080/",
          "height": 34
        }
      },
      "source": [
        "#Age\n",
        "\n",
        "data = [train_df, test_df]\n",
        "\n",
        "for dataset in data:\n",
        "  mean = dataset['Age'].mean()\n",
        "  std = dataset['Age'].std()\n",
        "  is_null = dataset['Age'].isnull().sum()\n",
        "  \n",
        "  rand_age = np.random.randint(mean-std, mean+std, size = is_null)\n",
        "  \n",
        "  age_slice = dataset['Age'].copy()\n",
        "  age_slice[np.isnan(age_slice)] = rand_age\n",
        "  dataset['Age'] = age_slice\n",
        "  dataset['Age'] = dataset['Age'].astype(int)\n",
        "\n",
        "train_df['Age'].isnull().sum()"
      ],
      "execution_count": 0,
      "outputs": [
        {
          "output_type": "execute_result",
          "data": {
            "text/plain": [
              "0"
            ]
          },
          "metadata": {
            "tags": []
          },
          "execution_count": 53
        }
      ]
    },
    {
      "cell_type": "code",
      "metadata": {
        "id": "t1A1Ci83tyfI",
        "colab_type": "code",
        "outputId": "3fb21ec3-326d-4c11-b2fe-b17c3a6b09fe",
        "colab": {
          "base_uri": "https://localhost:8080/",
          "height": 168
        }
      },
      "source": [
        "#Grouping Age\n",
        "data = [train_df, test_df]\n",
        "for dataset in data:\n",
        "  dataset['Age'] = dataset['Age'].astype(int)\n",
        "  dataset.loc[dataset['Age'] <= 11, 'Age'] = 0\n",
        "  dataset.loc[(dataset['Age'] > 11) & (dataset['Age'] <= 18),  'Age'] = 1\n",
        "  dataset.loc[(dataset['Age'] > 18) & (dataset['Age'] <= 22),  'Age'] = 2\n",
        "  dataset.loc[(dataset['Age'] > 22) & (dataset['Age'] <= 27),  'Age'] = 3\n",
        "  dataset.loc[(dataset['Age'] > 27) & (dataset['Age'] <= 33),  'Age'] = 4\n",
        "  dataset.loc[(dataset['Age'] > 33) & (dataset['Age'] <= 40),  'Age'] = 5\n",
        "  dataset.loc[(dataset['Age'] > 40) & (dataset['Age'] <= 66),  'Age'] = 6\n",
        "  dataset.loc[(dataset['Age'] > 66),  'Age'] = 7\n",
        "  \n",
        "train_df['Age'].value_counts()"
      ],
      "execution_count": 0,
      "outputs": [
        {
          "output_type": "execute_result",
          "data": {
            "text/plain": [
              "4    165\n",
              "6    160\n",
              "3    138\n",
              "5    137\n",
              "2    120\n",
              "1     96\n",
              "0     68\n",
              "7      7\n",
              "Name: Age, dtype: int64"
            ]
          },
          "metadata": {
            "tags": []
          },
          "execution_count": 54
        }
      ]
    },
    {
      "cell_type": "code",
      "metadata": {
        "id": "q3K897q7nyd9",
        "colab_type": "code",
        "colab": {}
      },
      "source": [
        "#Embarked\n",
        "train_df['Embarked'].describe();\n",
        "\n",
        "common_value = 'S'\n",
        "data = [train_df, test_df]\n",
        "\n",
        "for dataset in data:\n",
        "  dataset['Embarked'] = dataset['Embarked'].fillna(common_value)\n",
        "  \n",
        "ports = {'S':0, 'C':1, 'Q':2}\n",
        "data = [train_df, test_df]\n",
        "\n",
        "for dataset in data:\n",
        "  dataset['Embarked'] = dataset['Embarked'].map(ports)"
      ],
      "execution_count": 0,
      "outputs": []
    },
    {
      "cell_type": "code",
      "metadata": {
        "id": "ZiBXdifsqYeT",
        "colab_type": "code",
        "colab": {}
      },
      "source": [
        "#Fare\n",
        "data = [train_df, test_df]\n",
        "\n",
        "# Heandling Missing Values\n",
        "for dataset in data:\n",
        "  dataset['Fare'] = dataset['Fare'].fillna(0)\n",
        "#  dataset['Fare'] = dataset['Fare'].astype(int)\n",
        "  \n",
        "# Categorize Fare\n",
        "for dataset in data:\n",
        "  dataset.loc[dataset['Fare'] <= 7.91, 'Fare'] = 0\n",
        "  dataset.loc[(dataset['Fare'] > 7.91) & (dataset['Fare'] <= 14.454), 'Fare'] = 1\n",
        "  dataset.loc[(dataset['Fare'] > 14.454) & (dataset['Fare'] <= 31), 'Fare'] = 2\n",
        "  dataset.loc[(dataset['Fare'] > 31) & (dataset['Fare'] <= 99), 'Fare'] = 3\n",
        "  dataset.loc[(dataset['Fare'] > 99) & (dataset['Fare'] <= 250), 'Fare'] = 4\n",
        "  dataset.loc[(dataset['Fare'] > 250), 'Fare'] = 5\n",
        "  dataset['Fare'] = dataset['Fare'].astype(int)\n",
        "  \n",
        "  \n",
        "  "
      ],
      "execution_count": 0,
      "outputs": []
    },
    {
      "cell_type": "code",
      "metadata": {
        "id": "ao0Xl9teqqg_",
        "colab_type": "code",
        "colab": {}
      },
      "source": [
        "#Name\n",
        "data = [train_df, test_df]\n",
        "titles = {'Mr':1, 'Miss': 2, 'Mrs':3, 'Master':4, 'Rare': 5}\n",
        "\n",
        "for dataset in data:\n",
        "  # extract titles\n",
        "  dataset['Title'] = dataset.Name.str.extract(' ([A-Za-z]+)\\.', expand=False)\n",
        "  dataset['Title'] = dataset['Title'].replace(['Lady',\\\n",
        "                                              'Countess','Capt','Col','Don',\\\n",
        "                                              'Dr','Major','Rev','Sir','Johkheer',\\\n",
        "                                              'Dona'], 'Rare')\n",
        "  dataset['Title'] = dataset['Title'].replace('Mlle', 'Miss')\n",
        "  dataset['Title'] = dataset['Title'].replace('Ms', 'Miss')\n",
        "  dataset['Title'] = dataset['Title'].replace('Mme', 'Mrs')\n",
        "  \n",
        "  #convert titles into numbers\n",
        "  dataset['Title'] = dataset['Title'].map(titles)\n",
        "  \n",
        "  \n",
        "  #filling NaN with 0, to get safe\n",
        "  dataset['Title'] = dataset['Title'].fillna(0)\n",
        "  dataset['Title'] = dataset['Title'].astype(int)\n",
        "  \n",
        "train_df = train_df.drop(['Name'], axis=1)\n",
        "test_df = test_df.drop(['Name'],axis=1)"
      ],
      "execution_count": 0,
      "outputs": []
    },
    {
      "cell_type": "code",
      "metadata": {
        "id": "OJavyJ2trYio",
        "colab_type": "code",
        "colab": {}
      },
      "source": [
        "#Sex\n",
        "genders = {'male':0, 'female':1}\n",
        "data = [train_df, test_df]\n",
        "\n",
        "for dataset in data:\n",
        "  dataset['Sex'] = dataset['Sex'].map(genders)"
      ],
      "execution_count": 0,
      "outputs": []
    },
    {
      "cell_type": "code",
      "metadata": {
        "id": "9hEdcQTQsr21",
        "colab_type": "code",
        "colab": {}
      },
      "source": [
        "#Ticket\n",
        "train_df['Ticket'].describe()\n",
        "train_df = train_df.drop(['Ticket'], axis=1)\n",
        "test_df = test_df.drop(['Ticket'], axis=1)"
      ],
      "execution_count": 0,
      "outputs": []
    },
    {
      "cell_type": "code",
      "metadata": {
        "id": "-cfBQJ2qc4jl",
        "colab_type": "code",
        "colab": {}
      },
      "source": [
        "#New features\n",
        "\n",
        "data = [train_df, test_df]\n",
        "\n",
        "#Age times Class\n",
        "for dataset in data:\n",
        "  dataset['Age_Class'] = dataset['Age']*dataset['Pclass']\n",
        "  \n",
        "#Fare per Person\n",
        "for dataset in data:\n",
        "  dataset['Fare_Per_Person'] = dataset['Fare']/(dataset['relatives']+1)\n",
        "  dataset['Fare_Per_Person'] =dataset['Fare_Per_Person'].astype(int)\n",
        "  \n"
      ],
      "execution_count": 0,
      "outputs": []
    },
    {
      "cell_type": "code",
      "metadata": {
        "id": "0kcK1cycdaXm",
        "colab_type": "code",
        "colab": {}
      },
      "source": [
        "## Building Machine Learning Models\n",
        "\n",
        "X_train = train_df.drop('Survived', axis=1)\n",
        "Y_train = train_df['Survived']\n",
        "\n",
        "X_test = test_df.drop('PassengerId', axis=1).copy()"
      ],
      "execution_count": 0,
      "outputs": []
    },
    {
      "cell_type": "code",
      "metadata": {
        "id": "KnDL1blkeOAG",
        "colab_type": "code",
        "outputId": "d872cdf0-fc81-4690-fc72-00a7ab0d5417",
        "colab": {
          "base_uri": "https://localhost:8080/",
          "height": 34
        }
      },
      "source": [
        "#Stochastic Gradient Descent (SGD)\n",
        "\n",
        "sgd = linear_model.SGDClassifier(max_iter=5, tol=None)\n",
        "sgd.fit(X_train, Y_train)\n",
        "\n",
        "Y_pred = sgd.predict(X_test)\n",
        "\n",
        "sgd.score(X_train, Y_train)\n",
        "\n",
        "acc_sgd = round(sgd.score(X_train, Y_train) *100, 2)\n",
        "acc_sgd"
      ],
      "execution_count": 0,
      "outputs": [
        {
          "output_type": "execute_result",
          "data": {
            "text/plain": [
              "79.12"
            ]
          },
          "metadata": {
            "tags": []
          },
          "execution_count": 67
        }
      ]
    },
    {
      "cell_type": "code",
      "metadata": {
        "id": "pPf0YWzverGL",
        "colab_type": "code",
        "outputId": "295bbbc5-ad57-46b8-af74-b0d025d68afd",
        "colab": {
          "base_uri": "https://localhost:8080/",
          "height": 34
        }
      },
      "source": [
        "#Random Forest\n",
        "\n",
        "random_forest = RandomForestClassifier(n_estimators=100)\n",
        "random_forest.fit(X_train, Y_train)\n",
        "\n",
        "Y_prediction = random_forest.predict(X_test)\n",
        "\n",
        "random_forest.score(X_train, Y_train)\n",
        "\n",
        "acc_random_forest = round(random_forest.score(X_train, Y_train)* 100, 2)\n",
        "acc_random_forest"
      ],
      "execution_count": 0,
      "outputs": [
        {
          "output_type": "execute_result",
          "data": {
            "text/plain": [
              "92.93"
            ]
          },
          "metadata": {
            "tags": []
          },
          "execution_count": 69
        }
      ]
    },
    {
      "cell_type": "code",
      "metadata": {
        "id": "jsfAA69pfNVE",
        "colab_type": "code",
        "outputId": "651f1882-f76c-495b-b322-f38c69d2b363",
        "colab": {
          "base_uri": "https://localhost:8080/",
          "height": 87
        }
      },
      "source": [
        "# Logistic Regression\n",
        "\n",
        "logreg = LogisticRegression()\n",
        "logreg.fit(X_train, Y_train)\n",
        "\n",
        "Y_pred = logreg.predict(X_test)\n",
        "\n",
        "acc_log = round(logreg.score(X_train, Y_train) * 100, 2)\n",
        "acc_log"
      ],
      "execution_count": 0,
      "outputs": [
        {
          "output_type": "stream",
          "text": [
            "/usr/local/lib/python3.6/dist-packages/sklearn/linear_model/logistic.py:432: FutureWarning: Default solver will be changed to 'lbfgs' in 0.22. Specify a solver to silence this warning.\n",
            "  FutureWarning)\n"
          ],
          "name": "stderr"
        },
        {
          "output_type": "execute_result",
          "data": {
            "text/plain": [
              "81.59"
            ]
          },
          "metadata": {
            "tags": []
          },
          "execution_count": 70
        }
      ]
    },
    {
      "cell_type": "code",
      "metadata": {
        "id": "iym9eMC6fiuU",
        "colab_type": "code",
        "outputId": "c54fbe17-1c33-4e01-9a3b-8258f81b920e",
        "colab": {
          "base_uri": "https://localhost:8080/",
          "height": 34
        }
      },
      "source": [
        "# K Nearest Neighbor (KNN)\n",
        "knn = KNeighborsClassifier(n_neighbors=3)\n",
        "knn.fit(X_train, Y_train)\n",
        "\n",
        "Y_pred = knn.predict(X_test)\n",
        "\n",
        "acc_knn = round(knn.score(X_train, Y_train)*100, 2)\n",
        "acc_knn"
      ],
      "execution_count": 0,
      "outputs": [
        {
          "output_type": "execute_result",
          "data": {
            "text/plain": [
              "86.53"
            ]
          },
          "metadata": {
            "tags": []
          },
          "execution_count": 71
        }
      ]
    },
    {
      "cell_type": "code",
      "metadata": {
        "id": "xw7WgVTRhzM9",
        "colab_type": "code",
        "outputId": "e16043ec-872d-4f0f-ef22-c96929fc1f9c",
        "colab": {
          "base_uri": "https://localhost:8080/",
          "height": 34
        }
      },
      "source": [
        "#Gaussian Naive Bayes\n",
        "gaussian = GaussianNB()\n",
        "gaussian.fit(X_train, Y_train)\n",
        "\n",
        "Y_pred = gaussian.predict(X_test)\n",
        "\n",
        "acc_gaussian = round(gaussian.score(X_train, Y_train) * 100, 2)\n",
        "acc_gaussian"
      ],
      "execution_count": 0,
      "outputs": [
        {
          "output_type": "execute_result",
          "data": {
            "text/plain": [
              "77.67"
            ]
          },
          "metadata": {
            "tags": []
          },
          "execution_count": 77
        }
      ]
    },
    {
      "cell_type": "code",
      "metadata": {
        "id": "H0e-fpGygK-o",
        "colab_type": "code",
        "outputId": "466384f5-736b-4a99-c8fd-ded5b7fde43d",
        "colab": {
          "base_uri": "https://localhost:8080/",
          "height": 87
        }
      },
      "source": [
        "#Perceptron\n",
        "\n",
        "perceptron = Perceptron(max_iter=5)\n",
        "perceptron.fit(X_train, Y_train)\n",
        "\n",
        "Y_pred = perceptron.predict(X_test)\n",
        "\n",
        "acc_perceptron = round(perceptron.score(X_train, Y_train)* 100, 2)\n",
        "acc_perceptron"
      ],
      "execution_count": 0,
      "outputs": [
        {
          "output_type": "stream",
          "text": [
            "/usr/local/lib/python3.6/dist-packages/sklearn/linear_model/stochastic_gradient.py:561: ConvergenceWarning: Maximum number of iteration reached before convergence. Consider increasing max_iter to improve the fit.\n",
            "  ConvergenceWarning)\n"
          ],
          "name": "stderr"
        },
        {
          "output_type": "execute_result",
          "data": {
            "text/plain": [
              "82.04"
            ]
          },
          "metadata": {
            "tags": []
          },
          "execution_count": 72
        }
      ]
    },
    {
      "cell_type": "code",
      "metadata": {
        "id": "VjPUDOaxgaEC",
        "colab_type": "code",
        "outputId": "ba2a36cc-8a95-4e0c-96e4-774897d5967e",
        "colab": {
          "base_uri": "https://localhost:8080/",
          "height": 87
        }
      },
      "source": [
        "#Linear Support Vector Machine\n",
        "linear_svc = LinearSVC()\n",
        "linear_svc.fit(X_train, Y_train)\n",
        "\n",
        "Y_pred = linear_svc.predict(X_test)\n",
        "acc_linear_svc = round(linear_svc.score(X_train, Y_train) * 100, 2)\n",
        "acc_linear_svc"
      ],
      "execution_count": 0,
      "outputs": [
        {
          "output_type": "stream",
          "text": [
            "/usr/local/lib/python3.6/dist-packages/sklearn/svm/base.py:929: ConvergenceWarning: Liblinear failed to converge, increase the number of iterations.\n",
            "  \"the number of iterations.\", ConvergenceWarning)\n"
          ],
          "name": "stderr"
        },
        {
          "output_type": "execute_result",
          "data": {
            "text/plain": [
              "81.93"
            ]
          },
          "metadata": {
            "tags": []
          },
          "execution_count": 74
        }
      ]
    },
    {
      "cell_type": "code",
      "metadata": {
        "id": "OnmBDePLgyC_",
        "colab_type": "code",
        "outputId": "9fc20ed3-2e15-4471-955c-fe2b1ba75174",
        "colab": {
          "base_uri": "https://localhost:8080/",
          "height": 34
        }
      },
      "source": [
        "decision_tree = DecisionTreeClassifier()\n",
        "decision_tree.fit(X_train, Y_train)\n",
        "\n",
        "Y_pred = decision_tree.predict(X_test)\n",
        "\n",
        "acc_decision_tree = round(decision_tree.score(X_train, Y_train) * 100, 2)\n",
        "acc_decision_tree"
      ],
      "execution_count": 0,
      "outputs": [
        {
          "output_type": "execute_result",
          "data": {
            "text/plain": [
              "92.93"
            ]
          },
          "metadata": {
            "tags": []
          },
          "execution_count": 76
        }
      ]
    },
    {
      "cell_type": "code",
      "metadata": {
        "id": "PhOZg9SJhUPY",
        "colab_type": "code",
        "outputId": "b280e297-e901-4ba2-8625-5f097b2eedaf",
        "colab": {
          "base_uri": "https://localhost:8080/",
          "height": 314
        }
      },
      "source": [
        "result_df = pd.DataFrame({\n",
        "    'Model': ['Support Vector Machines', 'KNN', 'Logistic Regression', \\\n",
        "             'Random Forest', 'Naive Bayes','Perceptron','Stochastic Gradient Decent',\\\n",
        "             'Decision Tree'],\n",
        "    'Score': [acc_linear_svc, acc_knn, acc_log, acc_random_forest, acc_gaussian, \\\n",
        "             acc_perceptron, acc_sgd, acc_decision_tree]\n",
        "})\n",
        "\n",
        "result_df = result_df.sort_values(by='Score', ascending=False)\n",
        "result_df = result_df.set_index('Score')\n",
        "result_df.head(9)"
      ],
      "execution_count": 0,
      "outputs": [
        {
          "output_type": "execute_result",
          "data": {
            "text/html": [
              "<div>\n",
              "<style scoped>\n",
              "    .dataframe tbody tr th:only-of-type {\n",
              "        vertical-align: middle;\n",
              "    }\n",
              "\n",
              "    .dataframe tbody tr th {\n",
              "        vertical-align: top;\n",
              "    }\n",
              "\n",
              "    .dataframe thead th {\n",
              "        text-align: right;\n",
              "    }\n",
              "</style>\n",
              "<table border=\"1\" class=\"dataframe\">\n",
              "  <thead>\n",
              "    <tr style=\"text-align: right;\">\n",
              "      <th></th>\n",
              "      <th>Model</th>\n",
              "    </tr>\n",
              "    <tr>\n",
              "      <th>Score</th>\n",
              "      <th></th>\n",
              "    </tr>\n",
              "  </thead>\n",
              "  <tbody>\n",
              "    <tr>\n",
              "      <th>92.93</th>\n",
              "      <td>Random Forest</td>\n",
              "    </tr>\n",
              "    <tr>\n",
              "      <th>92.93</th>\n",
              "      <td>Decision Tree</td>\n",
              "    </tr>\n",
              "    <tr>\n",
              "      <th>86.53</th>\n",
              "      <td>KNN</td>\n",
              "    </tr>\n",
              "    <tr>\n",
              "      <th>82.04</th>\n",
              "      <td>Perceptron</td>\n",
              "    </tr>\n",
              "    <tr>\n",
              "      <th>81.93</th>\n",
              "      <td>Support Vector Machines</td>\n",
              "    </tr>\n",
              "    <tr>\n",
              "      <th>81.59</th>\n",
              "      <td>Logistic Regression</td>\n",
              "    </tr>\n",
              "    <tr>\n",
              "      <th>79.12</th>\n",
              "      <td>Stochastic Gradient Decent</td>\n",
              "    </tr>\n",
              "    <tr>\n",
              "      <th>77.67</th>\n",
              "      <td>Naive Bayes</td>\n",
              "    </tr>\n",
              "  </tbody>\n",
              "</table>\n",
              "</div>"
            ],
            "text/plain": [
              "                            Model\n",
              "Score                            \n",
              "92.93               Random Forest\n",
              "92.93               Decision Tree\n",
              "86.53                         KNN\n",
              "82.04                  Perceptron\n",
              "81.93     Support Vector Machines\n",
              "81.59         Logistic Regression\n",
              "79.12  Stochastic Gradient Decent\n",
              "77.67                 Naive Bayes"
            ]
          },
          "metadata": {
            "tags": []
          },
          "execution_count": 80
        }
      ]
    },
    {
      "cell_type": "code",
      "metadata": {
        "id": "2EJAbzk0ivRx",
        "colab_type": "code",
        "outputId": "217dd2d6-cf8f-417f-bcdc-2468566bbbb7",
        "colab": {
          "base_uri": "https://localhost:8080/",
          "height": 84
        }
      },
      "source": [
        "#K-Fold Cross Validation\n",
        "\n",
        "from sklearn.model_selection import cross_val_score\n",
        "\n",
        "rf = RandomForestClassifier(n_estimators=100)\n",
        "scores = cross_val_score(rf, X_train, Y_train, cv=10, scoring = 'accuracy')\n",
        "\n",
        "print('Scores:', scores)\n",
        "print('Mean:', scores.mean())\n",
        "print('Standard Deviation:', scores.std())"
      ],
      "execution_count": 0,
      "outputs": [
        {
          "output_type": "stream",
          "text": [
            "Scores: [0.82222222 0.83333333 0.70786517 0.82022472 0.86516854 0.86516854\n",
            " 0.80898876 0.7752809  0.85393258 0.86363636]\n",
            "Mean: 0.8215821132675065\n",
            "Standard Deviation: 0.046892374507698106\n"
          ],
          "name": "stdout"
        }
      ]
    },
    {
      "cell_type": "code",
      "metadata": {
        "id": "ZdNcmqNHj_CK",
        "colab_type": "code",
        "outputId": "80fde5d3-b347-4247-f2ad-5d4d64bc52cd",
        "colab": {
          "base_uri": "https://localhost:8080/",
          "height": 462
        }
      },
      "source": [
        "#Feature importances \n",
        "\n",
        "importances = pd.DataFrame({'feature': X_train.columns,\\\n",
        "                          'importance':np.round(random_forest.feature_importances_,3)})\n",
        "\n",
        "importances = importances.sort_values('importance',ascending=False).set_index('feature')\n",
        "\n",
        "importances.head(15)"
      ],
      "execution_count": 0,
      "outputs": [
        {
          "output_type": "execute_result",
          "data": {
            "text/html": [
              "<div>\n",
              "<style scoped>\n",
              "    .dataframe tbody tr th:only-of-type {\n",
              "        vertical-align: middle;\n",
              "    }\n",
              "\n",
              "    .dataframe tbody tr th {\n",
              "        vertical-align: top;\n",
              "    }\n",
              "\n",
              "    .dataframe thead th {\n",
              "        text-align: right;\n",
              "    }\n",
              "</style>\n",
              "<table border=\"1\" class=\"dataframe\">\n",
              "  <thead>\n",
              "    <tr style=\"text-align: right;\">\n",
              "      <th></th>\n",
              "      <th>importance</th>\n",
              "    </tr>\n",
              "    <tr>\n",
              "      <th>feature</th>\n",
              "      <th></th>\n",
              "    </tr>\n",
              "  </thead>\n",
              "  <tbody>\n",
              "    <tr>\n",
              "      <th>Title</th>\n",
              "      <td>0.189</td>\n",
              "    </tr>\n",
              "    <tr>\n",
              "      <th>Sex</th>\n",
              "      <td>0.182</td>\n",
              "    </tr>\n",
              "    <tr>\n",
              "      <th>Age_Class</th>\n",
              "      <td>0.101</td>\n",
              "    </tr>\n",
              "    <tr>\n",
              "      <th>Pclass</th>\n",
              "      <td>0.084</td>\n",
              "    </tr>\n",
              "    <tr>\n",
              "      <th>Age</th>\n",
              "      <td>0.081</td>\n",
              "    </tr>\n",
              "    <tr>\n",
              "      <th>Deck</th>\n",
              "      <td>0.081</td>\n",
              "    </tr>\n",
              "    <tr>\n",
              "      <th>Fare</th>\n",
              "      <td>0.062</td>\n",
              "    </tr>\n",
              "    <tr>\n",
              "      <th>relatives</th>\n",
              "      <td>0.056</td>\n",
              "    </tr>\n",
              "    <tr>\n",
              "      <th>Embarked</th>\n",
              "      <td>0.050</td>\n",
              "    </tr>\n",
              "    <tr>\n",
              "      <th>Fare_Per_Person</th>\n",
              "      <td>0.041</td>\n",
              "    </tr>\n",
              "    <tr>\n",
              "      <th>SibSp</th>\n",
              "      <td>0.036</td>\n",
              "    </tr>\n",
              "    <tr>\n",
              "      <th>Parch</th>\n",
              "      <td>0.023</td>\n",
              "    </tr>\n",
              "    <tr>\n",
              "      <th>not_alone</th>\n",
              "      <td>0.013</td>\n",
              "    </tr>\n",
              "  </tbody>\n",
              "</table>\n",
              "</div>"
            ],
            "text/plain": [
              "                 importance\n",
              "feature                    \n",
              "Title                 0.189\n",
              "Sex                   0.182\n",
              "Age_Class             0.101\n",
              "Pclass                0.084\n",
              "Age                   0.081\n",
              "Deck                  0.081\n",
              "Fare                  0.062\n",
              "relatives             0.056\n",
              "Embarked              0.050\n",
              "Fare_Per_Person       0.041\n",
              "SibSp                 0.036\n",
              "Parch                 0.023\n",
              "not_alone             0.013"
            ]
          },
          "metadata": {
            "tags": []
          },
          "execution_count": 86
        }
      ]
    },
    {
      "cell_type": "code",
      "metadata": {
        "id": "aOrRGq-Ym7bw",
        "colab_type": "code",
        "outputId": "e7e1f5f5-ce7c-48ac-c9a4-99af75ebd64b",
        "colab": {
          "base_uri": "https://localhost:8080/",
          "height": 372
        }
      },
      "source": [
        "importances.plot.bar()"
      ],
      "execution_count": 0,
      "outputs": [
        {
          "output_type": "execute_result",
          "data": {
            "text/plain": [
              "<matplotlib.axes._subplots.AxesSubplot at 0x7f455da2d7b8>"
            ]
          },
          "metadata": {
            "tags": []
          },
          "execution_count": 87
        },
        {
          "output_type": "display_data",
          "data": {
            "image/png": "[encoded data removed]",
            "text/plain": [
              "<Figure size 432x288 with 1 Axes>"
            ]
          },
          "metadata": {
            "tags": []
          }
        }
      ]
    },
    {
      "cell_type": "code",
      "metadata": {
        "id": "tehWJv54nMvk",
        "colab_type": "code",
        "outputId": "1c9c3b62-be51-4273-c04b-b65e1a3ca811",
        "colab": {
          "base_uri": "https://localhost:8080/",
          "height": 34
        }
      },
      "source": [
        "# Random Forest\n",
        "random_forest = RandomForestClassifier(n_estimators=100, oob_score=True)\n",
        "random_forest.fit(X_train, Y_train)\n",
        "\n",
        "Y_prediction = random_forest.predict(X_test)\n",
        "\n",
        "random_forest.score(X_train, Y_train)\n",
        "\n",
        "#out-of-bag samples\n",
        "\n",
        "print('oob score:', round(random_forest.oob_score_, 4)*100)"
      ],
      "execution_count": 0,
      "outputs": [
        {
          "output_type": "stream",
          "text": [
            "oob score: 81.37\n"
          ],
          "name": "stdout"
        }
      ]
    },
    {
      "cell_type": "code",
      "metadata": {
        "id": "BSFTqyCToVr6",
        "colab_type": "code",
        "outputId": "2b779ec9-8304-46d3-e434-61655976c918",
        "colab": {
          "base_uri": "https://localhost:8080/",
          "height": 406
        }
      },
      "source": [
        "# Hyperparameter Tuning\n",
        "from sklearn.model_selection import GridSearchCV, cross_val_score\n",
        "\n",
        "param_grid = {'criterion':['gini','entropy'],\\\n",
        "              'min_samples_leaf':[1,5,10],\\\n",
        "              'min_samples_split':[2,4,10],\n",
        "              'n_estimators':[100,400,700,1000]\n",
        "             }\n",
        "\n",
        "rf = RandomForestClassifier(n_estimators=100, max_features='auto', oob_score=True, random_state=1, n_jobs=-1)\n",
        "\n",
        "clf = GridSearchCV(estimator=rf, param_grid=param_grid, n_jobs=-1)\n",
        "clf.fit(X_train, Y_train)\n",
        "\n"
      ],
      "execution_count": 0,
      "outputs": [
        {
          "output_type": "stream",
          "text": [
            "/usr/local/lib/python3.6/dist-packages/sklearn/model_selection/_split.py:1978: FutureWarning: The default value of cv will change from 3 to 5 in version 0.22. Specify it explicitly to silence this warning.\n",
            "  warnings.warn(CV_WARNING, FutureWarning)\n"
          ],
          "name": "stderr"
        },
        {
          "output_type": "execute_result",
          "data": {
            "text/plain": [
              "GridSearchCV(cv='warn', error_score='raise-deprecating',\n",
              "             estimator=RandomForestClassifier(bootstrap=True, class_weight=None,\n",
              "                                              criterion='gini', max_depth=None,\n",
              "                                              max_features='auto',\n",
              "                                              max_leaf_nodes=None,\n",
              "                                              min_impurity_decrease=0.0,\n",
              "                                              min_impurity_split=None,\n",
              "                                              min_samples_leaf=1,\n",
              "                                              min_samples_split=2,\n",
              "                                              min_weight_fraction_leaf=0.0,\n",
              "                                              n_estimators=100, n_jobs=-1,\n",
              "                                              oob_score=True, random_state=1,\n",
              "                                              verbose=0, warm_start=False),\n",
              "             iid='warn', n_jobs=-1,\n",
              "             param_grid={'criterion': ['gini', 'entropy'],\n",
              "                         'min_samples_leaf': [1, 5, 10],\n",
              "                         'min_samples_split': [2, 4, 10],\n",
              "                         'n_estimators': [100, 400, 700, 1000]},\n",
              "             pre_dispatch='2*n_jobs', refit=True, return_train_score=False,\n",
              "             scoring=None, verbose=0)"
            ]
          },
          "metadata": {
            "tags": []
          },
          "execution_count": 95
        }
      ]
    },
    {
      "cell_type": "code",
      "metadata": {
        "id": "D5TcMIuVpugS",
        "colab_type": "code",
        "outputId": "bfe84f7a-7416-4190-c228-ad509035c6cd",
        "colab": {
          "base_uri": "https://localhost:8080/",
          "height": 84
        }
      },
      "source": [
        "clf.best_params_"
      ],
      "execution_count": 0,
      "outputs": [
        {
          "output_type": "execute_result",
          "data": {
            "text/plain": [
              "{'criterion': 'entropy',\n",
              " 'min_samples_leaf': 1,\n",
              " 'min_samples_split': 10,\n",
              " 'n_estimators': 700}"
            ]
          },
          "metadata": {
            "tags": []
          },
          "execution_count": 96
        }
      ]
    },
    {
      "cell_type": "code",
      "metadata": {
        "id": "uoErBoDBrHVz",
        "colab_type": "code",
        "outputId": "a8361c76-5228-4729-c6e9-1c395ee45478",
        "colab": {
          "base_uri": "https://localhost:8080/",
          "height": 34
        }
      },
      "source": [
        "# Random Forest\n",
        "random_forest = RandomForestClassifier(criterion = \"entropy\", \n",
        "                                       min_samples_leaf = 1, \n",
        "                                       min_samples_split = 10,   \n",
        "                                       n_estimators=700, \n",
        "                                       max_features='auto', \n",
        "                                       oob_score=True, \n",
        "                                       random_state=1, \n",
        "                                       n_jobs=-1)\n",
        "\n",
        "random_forest.fit(X_train, Y_train)\n",
        "Y_prediction = random_forest.predict(X_test)\n",
        "\n",
        "random_forest.score(X_train, Y_train)\n",
        "\n",
        "print(\"oob score:\", round(random_forest.oob_score_, 4)*100, \"%\")"
      ],
      "execution_count": 0,
      "outputs": [
        {
          "output_type": "stream",
          "text": [
            "oob score: 83.05 %\n"
          ],
          "name": "stdout"
        }
      ]
    },
    {
      "cell_type": "markdown",
      "metadata": {
        "id": "gN7O7VXMph8X",
        "colab_type": "text"
      },
      "source": [
        "# Evaluation Methods\n"
      ]
    },
    {
      "cell_type": "code",
      "metadata": {
        "id": "qzHtijrMpZM2",
        "colab_type": "code",
        "outputId": "b7055547-f67c-475f-f649-4d8015cf17a6",
        "colab": {
          "base_uri": "https://localhost:8080/",
          "height": 50
        }
      },
      "source": [
        "#Confusion Matrix\n",
        "\n",
        "from sklearn.model_selection import cross_val_predict\n",
        "from sklearn.metrics import confusion_matrix\n",
        "\n",
        "predictions = cross_val_predict(random_forest, X_train, Y_train, cv=3)\n",
        "confusion_matrix(Y_train, predictions)\n"
      ],
      "execution_count": 0,
      "outputs": [
        {
          "output_type": "execute_result",
          "data": {
            "text/plain": [
              "array([[489,  60],\n",
              "       [ 91, 251]])"
            ]
          },
          "metadata": {
            "tags": []
          },
          "execution_count": 100
        }
      ]
    },
    {
      "cell_type": "code",
      "metadata": {
        "id": "M3e_wJZdq3PY",
        "colab_type": "code",
        "outputId": "9b78f9fa-e9bf-41d5-d645-7b7730b7e05f",
        "colab": {
          "base_uri": "https://localhost:8080/",
          "height": 67
        }
      },
      "source": [
        "from sklearn.metrics import precision_score, recall_score, f1_score\n",
        "\n",
        "print('Precision:', precision_score(Y_train, predictions))\n",
        "print('Recall:', recall_score(Y_train, predictions))\n",
        "print('F1 Score:', f1_score(Y_train, predictions))"
      ],
      "execution_count": 0,
      "outputs": [
        {
          "output_type": "stream",
          "text": [
            "Precision: 0.8070739549839229\n",
            "Recall: 0.7339181286549707\n",
            "F1 Score: 0.7687595712098009\n"
          ],
          "name": "stdout"
        }
      ]
    },
    {
      "cell_type": "code",
      "metadata": {
        "id": "EpQX7aVur2BQ",
        "colab_type": "code",
        "outputId": "1f9ee2a7-ee02-4f48-920a-9bbc460e81f8",
        "colab": {
          "base_uri": "https://localhost:8080/",
          "height": 283
        }
      },
      "source": [
        "from sklearn.metrics import precision_recall_curve\n",
        "\n",
        "#getting the probabilities of our predictions\n",
        "y_scores = random_forest.predict_proba(X_train)\n",
        "y_scores = y_scores[:,1]\n",
        "\n",
        "precision, recall, threshold = precision_recall_curve(Y_train, y_scores)\n",
        "\n",
        "def plot_precision_and_recall(precision, recall, threshold):\n",
        "  plt.plot(threshold, precision[:-1], \"r-\", label=\"precision\", linewidth=2)\n",
        "  plt.plot(threshold, recall[:-1], \"b\", label=\"recall\", linewidth=2)\n",
        "  \n",
        "  plt.xlabel('threshold', fontsize=10)\n",
        "  plt.legend(loc=\"upper right\", fontsize=10)\n",
        "  plt.ylim([0,1])\n",
        "  \n",
        "plt.figure(figsize=(8,4))\n",
        "plot_precision_and_recall(precision, recall, threshold)\n",
        "plt.show()\n"
      ],
      "execution_count": 0,
      "outputs": [
        {
          "output_type": "display_data",
          "data": {
            "image/png": "[encoded data removed]",
            "text/plain": [
              "<Figure size 576x288 with 1 Axes>"
            ]
          },
          "metadata": {
            "tags": []
          }
        }
      ]
    },
    {
      "cell_type": "code",
      "metadata": {
        "id": "pcSQftHZtL6M",
        "colab_type": "code",
        "outputId": "9806d53d-b1a5-4ce2-d673-31fca2b56fda",
        "colab": {
          "base_uri": "https://localhost:8080/",
          "height": 283
        }
      },
      "source": [
        "#Plotting ROC Curve\n",
        "\n",
        "from sklearn.metrics import roc_curve\n",
        "false_positive_rate, true_positive_rate, thresholds = roc_curve(Y_train, y_scores)\n",
        "\n",
        "def plot_roc_curve(false_positive_rate, true_positive_rate, label=None):\n",
        "  plt.plot(false_positive_rate, true_positive_rate, linewidth=1, label=label)\n",
        "  plt.plot([0,1], [0,1], 'r', linewidth=2)\n",
        "  plt.axis([0,1,0,1])\n",
        "  plt.xlabel('False Positive Rate (FPR)', fontsize=10)\n",
        "  plt.ylabel('True Positive Rate (TPR)', fontsize=10)\n",
        "  \n",
        "  \n",
        "plt.figure(figsize=(8,4))\n",
        "plot_roc_curve(false_positive_rate, true_positive_rate)\n",
        "plt.show()"
      ],
      "execution_count": 0,
      "outputs": [
        {
          "output_type": "display_data",
          "data": {
            "image/png": "[encoded data removed]",
            "text/plain": [
              "<Figure size 576x288 with 1 Axes>"
            ]
          },
          "metadata": {
            "tags": []
          }
        }
      ]
    },
    {
      "cell_type": "code",
      "metadata": {
        "id": "oJTao0NTu1te",
        "colab_type": "code",
        "outputId": "e0f7be23-b0a6-4615-c5cb-a29406cefe33",
        "colab": {
          "base_uri": "https://localhost:8080/",
          "height": 34
        }
      },
      "source": [
        "from sklearn.metrics import roc_auc_score\n",
        "\n",
        "r_a_score = roc_auc_score(Y_train, y_scores)\n",
        "print(\"ROC-AUC-Score:\", r_a_score)"
      ],
      "execution_count": 0,
      "outputs": [
        {
          "output_type": "stream",
          "text": [
            "ROC-AUC-Score: 0.949746482173862\n"
          ],
          "name": "stdout"
        }
      ]
    },
    {
      "cell_type": "markdown",
      "metadata": {
        "id": "TxatQ_E4vVjq",
        "colab_type": "text"
      },
      "source": [
        "## Applying LightGBM on Titanic"
      ]
    },
    {
      "cell_type": "code",
      "metadata": {
        "id": "4A3fqQpivUhZ",
        "colab_type": "code",
        "colab": {}
      },
      "source": [
        "#Building Dataset\n",
        "\n",
        "from sklearn.model_selection import train_test_split\n",
        "import lightgbm as lgbm\n",
        "\n",
        "XL_train, XL_test, YL_train, YL_test = train_test_split(X_train, Y_train, test_size=0.2, random_state=42)\n",
        "\n",
        "train_data = lgbm.Dataset(data=XL_train, label=YL_train, free_raw_data=False)\n",
        "test_data = lgbm.Dataset(data=XL_test, label=YL_test, free_raw_data=False)\n",
        "\n",
        "final_train_set = lgbm.Dataset(data=X_train, label=Y_train, free_raw_data=False)"
      ],
      "execution_count": 0,
      "outputs": []
    },
    {
      "cell_type": "code",
      "metadata": {
        "id": "5KD7DxKVw3Gi",
        "colab_type": "code",
        "colab": {}
      },
      "source": [
        "#Define Parameters\n",
        "\n",
        "lgbm_params = {\n",
        "    'boosting':'dart', #dart (drop out trees) often performs better\n",
        "    'application':'binary', # Binary classification\n",
        "    'learning_rate':0.05, # Learning rate, controls size of gradient descent step\n",
        "    'min_data_in_leaf': 20, #Data set is quite small so reduce this a bit\n",
        "    'feature_fraction': 0.7, # Proportion of features in each boost, controls overfitting\n",
        "    'num_leaves': 41, #Controls size of tree since LGBM uses leaf wise split\n",
        "    'metric':'binary_logloss', #Area under ROC curve as the evaluation metric\n",
        "    'drop_rate':0.15\n",
        "\n",
        "}"
      ],
      "execution_count": 0,
      "outputs": []
    },
    {
      "cell_type": "code",
      "metadata": {
        "id": "5u3hK7iXxr1W",
        "colab_type": "code",
        "outputId": "aaf13a9e-b306-45ff-ec0b-97ec8a617a49",
        "colab": {
          "base_uri": "https://localhost:8080/",
          "height": 490
        }
      },
      "source": [
        "#Train the model\n",
        "evaluation_results = {}\n",
        "\n",
        "clf = lgbm.train(train_set = train_data,\n",
        "                params = lgbm_params,\n",
        "                valid_sets = [train_data, test_data],\n",
        "                valid_names=['Train','Test'],\n",
        "                evals_result = evaluation_results,\n",
        "                num_boost_round=500,\n",
        "                early_stopping_rounds=100,\n",
        "                verbose_eval=20)\n",
        "\n",
        "optimum_boost_rounds = clf.best_iteration"
      ],
      "execution_count": 0,
      "outputs": [
        {
          "output_type": "stream",
          "text": [
            "/usr/local/lib/python3.6/dist-packages/lightgbm/callback.py:189: UserWarning: Early stopping is not available in dart mode\n",
            "  warnings.warn('Early stopping is not available in dart mode')\n"
          ],
          "name": "stderr"
        },
        {
          "output_type": "stream",
          "text": [
            "[20]\tTrain's binary_logloss: 0.47277\tTest's binary_logloss: 0.492602\n",
            "[40]\tTrain's binary_logloss: 0.411205\tTest's binary_logloss: 0.441306\n",
            "[60]\tTrain's binary_logloss: 0.399566\tTest's binary_logloss: 0.435022\n",
            "[80]\tTrain's binary_logloss: 0.385987\tTest's binary_logloss: 0.430707\n",
            "[100]\tTrain's binary_logloss: 0.382729\tTest's binary_logloss: 0.42868\n",
            "[120]\tTrain's binary_logloss: 0.373294\tTest's binary_logloss: 0.426095\n",
            "[140]\tTrain's binary_logloss: 0.363996\tTest's binary_logloss: 0.41918\n",
            "[160]\tTrain's binary_logloss: 0.367373\tTest's binary_logloss: 0.417974\n",
            "[180]\tTrain's binary_logloss: 0.349061\tTest's binary_logloss: 0.409699\n",
            "[200]\tTrain's binary_logloss: 0.336982\tTest's binary_logloss: 0.409468\n",
            "[220]\tTrain's binary_logloss: 0.330604\tTest's binary_logloss: 0.409155\n",
            "[240]\tTrain's binary_logloss: 0.320779\tTest's binary_logloss: 0.407994\n",
            "[260]\tTrain's binary_logloss: 0.315198\tTest's binary_logloss: 0.410483\n",
            "[280]\tTrain's binary_logloss: 0.309083\tTest's binary_logloss: 0.41192\n",
            "[300]\tTrain's binary_logloss: 0.304833\tTest's binary_logloss: 0.41129\n",
            "[320]\tTrain's binary_logloss: 0.302084\tTest's binary_logloss: 0.415935\n",
            "[340]\tTrain's binary_logloss: 0.300064\tTest's binary_logloss: 0.414997\n",
            "[360]\tTrain's binary_logloss: 0.302855\tTest's binary_logloss: 0.416984\n",
            "[380]\tTrain's binary_logloss: 0.299342\tTest's binary_logloss: 0.41928\n",
            "[400]\tTrain's binary_logloss: 0.295857\tTest's binary_logloss: 0.421761\n",
            "[420]\tTrain's binary_logloss: 0.290659\tTest's binary_logloss: 0.424231\n",
            "[440]\tTrain's binary_logloss: 0.286286\tTest's binary_logloss: 0.428563\n",
            "[460]\tTrain's binary_logloss: 0.283921\tTest's binary_logloss: 0.428085\n",
            "[480]\tTrain's binary_logloss: 0.276552\tTest's binary_logloss: 0.431117\n",
            "[500]\tTrain's binary_logloss: 0.276288\tTest's binary_logloss: 0.42905\n"
          ],
          "name": "stdout"
        }
      ]
    },
    {
      "cell_type": "code",
      "metadata": {
        "id": "RREi9_ZIyd-K",
        "colab_type": "code",
        "outputId": "44a0200c-3444-40a8-fbbd-fb625c54490d",
        "colab": {
          "base_uri": "https://localhost:8080/",
          "height": 340
        }
      },
      "source": [
        "#Visualise training performance\n",
        "\n",
        "fig, axs = plt.subplots(2,1, figsize=[15,4])\n",
        "\n",
        "#Plot the log loss during training\n",
        "axs[0].plot(evaluation_results['Train']['binary_logloss'], label='Train')\n",
        "axs[0].plot(evaluation_results['Test']['binary_logloss'], label='Test')\n",
        "axs[0].set_ylabel('Log loss')\n",
        "axs[0].set_xlabel('Boosting round')\n",
        "axs[0].set_title('Training performance')\n",
        "axs[0].legend()\n",
        "\n",
        "#Plot feature importance\n",
        "importances = pd.DataFrame({'features': clf.feature_name(),\n",
        "                           'importance': clf.feature_importance()}).sort_values('importance',ascending=False)\n",
        "\n",
        "axs[1].bar(x=np.arange(len(importances)), height=importances['importance'])\n",
        "axs[1].set_xticks(np.arange(len(importances)))\n",
        "axs[1].set_xticklabels(importances['features'])\n",
        "axs[1].set_ylabel('Feature importance (#times used to split)')\n",
        "axs[1].set_title('Feature importance')\n",
        "\n",
        "plt.show()"
      ],
      "execution_count": 0,
      "outputs": [
        {
          "output_type": "display_data",
          "data": {
            "image/png": "[encoded data removed]",
            "text/plain": [
              "<Figure size 1080x288 with 2 Axes>"
            ]
          },
          "metadata": {
            "tags": []
          }
        }
      ]
    },
    {
      "cell_type": "code",
      "metadata": {
        "id": "UvawumSC0x7-",
        "colab_type": "code",
        "outputId": "e256e6d4-7b8c-4c49-bc48-854797d32b8c",
        "colab": {
          "base_uri": "https://localhost:8080/",
          "height": 101
        }
      },
      "source": [
        "#Examine model performance\n",
        "from sklearn.metrics import accuracy_score, precision_score, recall_score, f1_score\n",
        "\n",
        "\n",
        "preds = np.round(clf.predict(XL_test))\n",
        "print('Accuracy = \\t {}'.format(accuracy_score(YL_test, preds)))\n",
        "print('Precision = \\t {}'.format(precision_score(YL_test, preds)))\n",
        "print('Recall = \\t {}'.format(recall_score(YL_test, preds)))\n",
        "print('F1 Score = \\t {}'.format(f1_score(YL_test, preds)))\n",
        "r_a_score = roc_auc_score(YL_test, preds)\n",
        "print(\"ROC-AUC-Score:\", r_a_score)"
      ],
      "execution_count": 0,
      "outputs": [
        {
          "output_type": "stream",
          "text": [
            "Accuracy = \t 0.8770949720670391\n",
            "Precision = \t 0.8823529411764706\n",
            "Recall = \t 0.8108108108108109\n",
            "F1 Score = \t 0.8450704225352113\n",
            "ROC-AUC-Score: 0.8673101673101675\n"
          ],
          "name": "stdout"
        }
      ]
    },
    {
      "cell_type": "code",
      "metadata": {
        "id": "hdzffpe-2gFK",
        "colab_type": "code",
        "outputId": "295dd01d-cec3-4ccb-edb0-db0461906e80",
        "colab": {
          "base_uri": "https://localhost:8080/",
          "height": 390
        }
      },
      "source": [
        "#K_fold LightGBM\n",
        "from sklearn.model_selection import KFold\n",
        "from lightgbm import LGBMClassifier\n",
        "\n",
        "folds = KFold(n_splits=5, shuffle=True, random_state=123)\n",
        "\n",
        "oof_preds = np.zeros(X_train.shape[0])\n",
        "\n",
        "for n_fold, (trn_idx, val_idx) in enumerate(folds.split(X_train)):\n",
        "  trn_x, trn_y = X_train.iloc[trn_idx], Y_train.iloc[trn_idx]\n",
        "  val_x, val_y = X_train.iloc[val_idx], Y_train.iloc[val_idx]\n",
        "  \n",
        "  clf = LGBMClassifier(\n",
        "        n_estimators=2000,\n",
        "        learning_rate=0.1,\n",
        "        num_leaves=123,\n",
        "        colsample_bytree=.8,\n",
        "        subsample=.9,\n",
        "        max_depth=15,\n",
        "        reg_alpha=.1,\n",
        "        reg_lambda=.1,\n",
        "        min_split_gain=.01,\n",
        "        min_child_weight=2\n",
        "    )\n",
        "  \n",
        "  clf.fit(trn_x, trn_y, \n",
        "            eval_set= [(trn_x, trn_y), (val_x, val_y)], \n",
        "            eval_metric='auc', verbose=250, early_stopping_rounds=150\n",
        "           )\n",
        "  \n",
        "  oof_preds[val_idx] = clf.predict_proba(val_x, num_iteration=clf.best_iteration_)[:, 1]\n",
        "  print('Fold %2d AUC : %.6f' % (n_fold + 1, roc_auc_score(val_y, oof_preds[val_idx])))\n",
        "  \n",
        "print('Full AUC score %.6f' % roc_auc_score(Y_train, oof_preds))   "
      ],
      "execution_count": 0,
      "outputs": [
        {
          "output_type": "stream",
          "text": [
            "Training until validation scores don't improve for 150 rounds.\n",
            "Early stopping, best iteration is:\n",
            "[10]\ttraining's auc: 0.899813\ttraining's binary_logloss: 0.450109\tvalid_1's auc: 0.916262\tvalid_1's binary_logloss: 0.43179\n",
            "Fold  1 AUC : 0.916262\n",
            "Training until validation scores don't improve for 150 rounds.\n",
            "Early stopping, best iteration is:\n",
            "[19]\ttraining's auc: 0.918759\ttraining's binary_logloss: 0.375495\tvalid_1's auc: 0.87226\tvalid_1's binary_logloss: 0.412931\n",
            "Fold  2 AUC : 0.872260\n",
            "Training until validation scores don't improve for 150 rounds.\n",
            "Early stopping, best iteration is:\n",
            "[33]\ttraining's auc: 0.926935\ttraining's binary_logloss: 0.336073\tvalid_1's auc: 0.875888\tvalid_1's binary_logloss: 0.409987\n",
            "Fold  3 AUC : 0.875888\n",
            "Training until validation scores don't improve for 150 rounds.\n",
            "Early stopping, best iteration is:\n",
            "[19]\ttraining's auc: 0.925683\ttraining's binary_logloss: 0.366144\tvalid_1's auc: 0.814072\tvalid_1's binary_logloss: 0.467239\n",
            "Fold  4 AUC : 0.814072\n",
            "Training until validation scores don't improve for 150 rounds.\n",
            "Early stopping, best iteration is:\n",
            "[38]\ttraining's auc: 0.931802\ttraining's binary_logloss: 0.318382\tvalid_1's auc: 0.894616\tvalid_1's binary_logloss: 0.404724\n",
            "Fold  5 AUC : 0.894616\n",
            "Full AUC score 0.869207\n"
          ],
          "name": "stdout"
        }
      ]
    }
  ]
}